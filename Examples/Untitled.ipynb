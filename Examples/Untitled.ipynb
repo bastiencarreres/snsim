{
 "cells": [
  {
   "cell_type": "code",
   "execution_count": 2,
   "id": "320bd3e4-098b-43d6-ba64-95704f7b7022",
   "metadata": {},
   "outputs": [],
   "source": [
    "import snsim\n",
    "import pandas as pd"
   ]
  },
  {
   "cell_type": "code",
   "execution_count": 3,
   "id": "a014ff6d-bbab-48a9-b95c-76ef2b662940",
   "metadata": {},
   "outputs": [],
   "source": [
    "randseed = 1234\n",
    "z_range = [0.01, 0.15]\n",
    "\n",
    "time_range = [\"2021-08-03\", \"2022-08-03\"]\n",
    "\n",
    "snia_gen = {'M0': 'jla',\n",
    "            'sigM': 0.12,\n",
    "            'sct_model': 'G10',\n",
    "            'rate': 1,\n",
    "            'model_config': {'model_name': 'salt3',\n",
    "                             'alpha': 0.14,\n",
    "                             'beta': 2.9,\n",
    "                             'dist_x1': 'N21',\n",
    "                             'dist_c': [-0.055, 0.023, 0.150]}}\n",
    "\n",
    "cosmology = {'name':'planck18'}\n",
    "\n",
    "cmb = {'v_cmb': 0,\n",
    "       'l_cmb':0,\n",
    "       'b_cmb':0}\n",
    "\n",
    "\n",
    "mw_dust = {'model': 'CCM89',}\n",
    "host={'host_file': '/renoir/carreres/mydatadec/OuterRim/Mocks/OR_mock_00.parquet',\n",
    "      'key_dic': {'zcos': 'redshift','vpec_true': 'v_radial'},\n",
    "      'distrib': 'as_host'}\n",
    "survey = {\n",
    "        'survey_file': '/renoir/carreres/mydatadec/MySim/paper_sim/input_files/ztf_obsfile_maglimcat.parquet',\n",
    "        'sig_psf': 0.0,\n",
    "        'sig_zp': 0.01,\n",
    "        'ra_size': 7.295,\n",
    "        'dec_size': 7.465,\n",
    "        'noise_key': ['maglimcat', 'mlim5'],\n",
    "        'sub_field': 'rcid',\n",
    "        'field_map': '/renoir/carreres/Documents/Paper_script/sim_input/ZTF_CCD.dat'\n",
    "         }\n",
    "\n",
    "\n",
    "survey =  snsim.survey_host.SurveyObs(survey)\n"
   ]
  },
  {
   "cell_type": "code",
   "execution_count": 4,
   "id": "99c4aeeb-55a9-4dae-8d1a-17f4c9966b2a",
   "metadata": {},
   "outputs": [],
   "source": [
    "host = snsim.survey_host.SnHost(host, z_range=z_range, footprint=survey.fields.footprint)"
   ]
  },
  {
   "cell_type": "code",
   "execution_count": null,
   "id": "7bad3993-5c39-4d47-a269-ea4525899d27",
   "metadata": {},
   "outputs": [],
   "source": [
    "from astropy.time import Time\n",
    "\n",
    "# Take the SN Ia parameters generator class\n",
    "gen_class = getattr(snsim.generators, snsim.generators.__GEN_DIC__['snia_gen'])\n",
    "\n",
    "# Give the input configuration\n",
    "SNgenerator = gen_class(snia_gen,\n",
    "                        cmb,\n",
    "                        snsim.utils.set_cosmo(cosmology),\n",
    "                        mw_dust=mw_dust,\n",
    "                        host=host,\n",
    "                        survey_footprint=survey.fields.footprint)\n",
    "\n",
    "# Compute redshift distribution\n",
    "SNgenerator.compute_zcdf(z_range)\n",
    "\n",
    "# Set mint time and max time\n",
    "SNgenerator.time_range = (Time(time_range[0]).mjd, Time(time_range[1]).mjd)\n",
    "\n"
   ]
  },
  {
   "cell_type": "code",
   "execution_count": null,
   "id": "136caec6-3f37-4dcc-b5a6-f724541cbfdc",
   "metadata": {},
   "outputs": [],
   "source": [
    "%%time\n",
    "n_obj = 10000\n",
    "# Gen basic parameters\n",
    "params = SNgenerator.gen_astrobj_par(n_obj, randseed)\n"
   ]
  },
  {
   "cell_type": "code",
   "execution_count": 7,
   "id": "52080740-5578-4fd4-8e6b-e13c321ec6c5",
   "metadata": {},
   "outputs": [],
   "source": [
    "import geopandas as gpd\n",
    "import shapely.geometry as shp_geo"
   ]
  },
  {
   "cell_type": "code",
   "execution_count": null,
   "id": "a22f425f-1d98-4b06-8953-542882f62242",
   "metadata": {},
   "outputs": [],
   "source": [
    "%%time\n",
    "n= 100\n",
    "choice_weights = 1 / (1 + host.table['redshift'])\n",
    "choice_weights /= choice_weights.sum()\n",
    "choice_weights = None\n",
    "\n",
    "\n",
    "idx = []\n",
    "while len(idx) < n:\n",
    "    idx_tmp = np.random.choice(host.table.index, p=choice_weights)\n",
    "    pt = shp_geo.Point((host.table.loc[idx_tmp]['ra'], host.table.loc[idx_tmp]['dec']))\n",
    "    if host._footprint.contains(pt):\n",
    "        idx.append(idx_tmp)"
   ]
  },
  {
   "cell_type": "code",
   "execution_count": null,
   "id": "d82cdbb6-693f-41c2-a183-530520405fba",
   "metadata": {},
   "outputs": [],
   "source": [
    "min_x = 0\n",
    "min_y = 0\n",
    "max_x = 100\n",
    "max_y = 100\n",
    "overestimate = 2\n",
    "np.random.uniform((min_x, min_y), (max_x, max_y), size=(10))"
   ]
  },
  {
   "cell_type": "code",
   "execution_count": null,
   "id": "1ae7e8ac-94a4-4da8-81e1-58067568759c",
   "metadata": {},
   "outputs": [],
   "source": [
    "host.table.loc[idx_tmp]['ra']"
   ]
  },
  {
   "cell_type": "code",
   "execution_count": null,
   "id": "bb2679b6-748a-4c00-aaa9-12b5be8cf897",
   "metadata": {},
   "outputs": [],
   "source": [
    "n=10000"
   ]
  },
  {
   "cell_type": "code",
   "execution_count": null,
   "id": "3fb37b6b-75c2-4c02-90ad-b6fc3757b7fb",
   "metadata": {},
   "outputs": [],
   "source": [
    "import numpy as np\n",
    "z_cdf = SNgenerator.z_cdf\n",
    "\n",
    "\n",
    "choice_weights = 1 / (1 + host.table['redshift'])\n",
    "choice_weights /= choice_weights.sum()\n",
    "\n",
    "idx = np.random.choice(host.table.index, p=choice_weights, size=n_obj)\n",
    "params_assn = host.table.loc[idx]"
   ]
  },
  {
   "cell_type": "code",
   "execution_count": null,
   "id": "b848095c-3fa1-427a-b60b-c2c6ae34b8aa",
   "metadata": {},
   "outputs": [],
   "source": [
    "import matplotlib.pyplot as plt\n",
    "bi, a, b  = plt.hist(params.zcos, bins=30, range=[0.0,0.15])\n",
    "bi1, a1, b1 = plt.hist(params_assn.redshift, bins=30, range=[0.0, 0.15], histtype='step');\n",
    "#bi2, a2, b2 = plt.hist(params_assn2.redshift, bins=200, range=[0.0, 0.15], histtype='step');\n",
    "\n",
    "\n",
    "plt.figure()\n",
    "plt.plot((a[:-1] + a[1:]) * 0.5, (1 + (a[:-1] + a[1:]) * 0.5) * 0.9)\n",
    "plt.plot((a[:-1] + a[1:]) * 0.5, bi/bi1)\n",
    "\n",
    "plt.ylim(0.8, 1.1)\n",
    "plt.axhline(1)"
   ]
  },
  {
   "cell_type": "code",
   "execution_count": null,
   "id": "2ee16fc5-454f-411c-8ac2-b205003edfc8",
   "metadata": {},
   "outputs": [],
   "source": [
    "dV = SNgenerator.cosmology.comoving_volume(a[1:]) - SNgenerator.cosmology.comoving_volume(a[:-1])\n",
    "plt.plot((a[:-1] + a[1:]) * 0.5,\n",
    "         bi/dV * np.sum(dV))\n",
    "plt.plot((a[:-1] + a[1:]) * 0.5, n_obj * 1.08  / (1 + (a[:-1] + a[1:]) * 0.5))"
   ]
  },
  {
   "cell_type": "code",
   "execution_count": null,
   "id": "c516b816-fda1-4a68-bbe1-739652e212ed",
   "metadata": {},
   "outputs": [],
   "source": [
    "dz = (a[:-1] + a[1:]) * 0.5\n"
   ]
  },
  {
   "cell_type": "code",
   "execution_count": null,
   "id": "c0f667da-beab-4268-a9b8-951ebd17bfa6",
   "metadata": {},
   "outputs": [],
   "source": [
    "1  / (1 + dz[0]) - 1  / (1 + dz[-1])"
   ]
  },
  {
   "cell_type": "code",
   "execution_count": null,
   "id": "11ae8f34-b1b6-4863-a4e5-4afd4487668c",
   "metadata": {},
   "outputs": [],
   "source": [
    "cosmology"
   ]
  },
  {
   "cell_type": "code",
   "execution_count": null,
   "id": "f6cc9bf2-03d4-4083-80b5-d3272b7452f4",
   "metadata": {},
   "outputs": [],
   "source": [
    "np.sum(1 / (1 + (a[:-1] + a[1:]) * 0.5)) * (a[1] - a[0])"
   ]
  },
  {
   "cell_type": "code",
   "execution_count": null,
   "id": "39166e6d-16f5-4612-b02a-862eb96b4b56",
   "metadata": {},
   "outputs": [],
   "source": [
    "np.sqrt(740) "
   ]
  },
  {
   "cell_type": "code",
   "execution_count": null,
   "id": "a0bb16e3-a01b-4bec-9cdc-aa90c9e91fd9",
   "metadata": {},
   "outputs": [],
   "source": [
    "740 * 0.05"
   ]
  },
  {
   "cell_type": "code",
   "execution_count": null,
   "id": "c3d18c6d-8cbe-4003-abdc-fcb1c757c005",
   "metadata": {},
   "outputs": [],
   "source": [
    "plt.scatter(*survey.fields._sub_fields_corners[61].T)"
   ]
  },
  {
   "cell_type": "code",
   "execution_count": 6,
   "id": "bf1c721a-4d67-4568-90c3-eb6e68bfc5f5",
   "metadata": {},
   "outputs": [],
   "source": [
    "import shapely as shp"
   ]
  },
  {
   "cell_type": "code",
   "execution_count": null,
   "id": "82274485-fcaf-4df2-bcbb-d08f39efe56b",
   "metadata": {},
   "outputs": [],
   "source": [
    "p = shp.geometry.Polygon(survey.fields._sub_fields_corners[61])"
   ]
  },
  {
   "cell_type": "code",
   "execution_count": null,
   "id": "c34beacd-0fdb-46db-accb-ada39a03befe",
   "metadata": {},
   "outputs": [],
   "source": [
    "shp.affinity.rotate(p, 45, 'center')"
   ]
  },
  {
   "cell_type": "code",
   "execution_count": 18,
   "id": "71831036-21df-4313-8e0b-5bf08c977d4e",
   "metadata": {},
   "outputs": [],
   "source": [
    "@nb.njit()\n",
    "def R_base(a, t, vec, to_field_frame=True):\n",
    "    \"\"\"Return the new carthesian coordinates after z axis and vec axis rotations.\n",
    "    Parameters\n",
    "    ----------\n",
    "    a : float\n",
    "        Rotation angle around z axis.\n",
    "    t : Rotation angle around vec axis.\n",
    "    vec : numpy.ndarray(float)\n",
    "        Coordinates of the second rotation axis.\n",
    "    Returns\n",
    "    -------\n",
    "    numpy.ndarray(float)\n",
    "        Carthesian coordinates in the new basis.\n",
    "    Notes\n",
    "    -----\n",
    "    Rotation matrix computed using sagemaths\n",
    "    \"\"\"\n",
    "    R = np.zeros((3, 3))\n",
    "    R[0, 0] = (np.cos(t) - 1) * np.cos(a) * np.sin(a)**2 - \\\n",
    "        ((np.cos(t) - 1) * np.sin(a)**2 - np.cos(t)) * np.cos(a)\n",
    "    R[0, 1] = (np.cos(t) - 1) * np.cos(a)**2 * np.sin(a) + \\\n",
    "        ((np.cos(t) - 1) * np.sin(a)**2 - np.cos(t)) * np.sin(a)\n",
    "    R[0, 2] = np.cos(a) * np.sin(t)\n",
    "    R[1, 0] = (np.cos(t) - 1) * np.cos(a)**2 * np.sin(a) - \\\n",
    "        ((np.cos(t) - 1) * np.cos(a)**2 - np.cos(t)) * np.sin(a)\n",
    "    R[1, 1] = -(np.cos(t) - 1) * np.cos(a) * np.sin(a)**2 - \\\n",
    "        ((np.cos(t) - 1) * np.cos(a)**2 - np.cos(t)) * np.cos(a)\n",
    "    R[1, 2] = np.sin(a) * np.sin(t)\n",
    "    R[2, 0] = -np.cos(a)**2 * np.sin(t) - np.sin(a)**2 * np.sin(t)\n",
    "    R[2, 1] = 0\n",
    "    R[2, 2] = np.cos(t)\n",
    "\n",
    "    if to_field_frame:\n",
    "        return R.T @ vec\n",
    "    else:\n",
    "        return R @ vec"
   ]
  },
  {
   "cell_type": "code",
   "execution_count": 5,
   "id": "8864981c-1b2b-4da1-9ace-4bc60e2e02c4",
   "metadata": {},
   "outputs": [],
   "source": [
    "import numba as nb\n"
   ]
  },
  {
   "cell_type": "code",
   "execution_count": 19,
   "id": "6267ff0f-8b9e-4484-a478-47218c44819d",
   "metadata": {},
   "outputs": [],
   "source": [
    "@nb.guvectorize([\"void(float64[:, :], float64[:, :], float64[:,:])\"],\n",
    "              \"(m, n),(m, n)->(m, n)\", nopython=True)\n",
    "def new_coord_on_fields(ra_dec, ra_dec_frame, new_radec):\n",
    "    \"\"\"Compute new coordinates of an object in a list of fields frames.\n",
    "    Parameters\n",
    "    ----------\n",
    "    ra_frame : numpy.ndarray(float)\n",
    "        Field Right Ascension.\n",
    "    dec_frame : numpy.ndarray(float)\n",
    "        Field Declinaison.\n",
    "    vec : numpy.ndarray(float, size = 3)\n",
    "        The carthesian coordinates of the object.\n",
    "    Returns\n",
    "    -------\n",
    "    numpy.ndarray(float, size = (2, ?))\n",
    "    The new coordinates of the obect in each field frame.\n",
    "    \"\"\"\n",
    "   \n",
    "    for i in range(len(ra_dec_frame[0])):\n",
    "        vec = np.array([np.cos(ra_dec[0][i]) * np.cos(ra_dec[1][i]),\n",
    "                        np.sin(ra_dec[0][i]) * np.cos(ra_dec[1][i]),\n",
    "                        np.sin(ra_dec[1][i])])\n",
    "        x, y, z = R_base(ra_dec_frame[0][i], -ra_dec_frame[1][i], vec, to_field_frame=False)\n",
    "        new_radec[0][i] = np.arctan2(y, x)\n",
    "        if  new_radec[0][i] <0: new_radec[0][i] +=  2 * np.pi\n",
    "        new_radec[1][i] = np.arcsin(z)\n"
   ]
  },
  {
   "cell_type": "code",
   "execution_count": 13,
   "id": "a2abeb2a-6a7a-49fc-8340-87c0913ed6be",
   "metadata": {},
   "outputs": [
    {
     "name": "stdout",
     "output_type": "stream",
     "text": [
      "CPU times: user 1.43 ms, sys: 925 µs, total: 2.36 ms\n",
      "Wall time: 1.82 ms\n"
     ]
    }
   ],
   "source": [
    "%%time\n",
    "edges = np.array([np.ones(1000) * 2 * np.pi, np.linspace(-np.pi/2, np.pi/2, 1000)]).T\n",
    "limit = shp.geometry.LineString(edges)\n",
    "def comput_polygon(corner):\n",
    "    polygon = shp.geometry.Polygon(corner)\n",
    "    if polygon.intersects(limit):\n",
    "        unioned = polygon.boundary.union(limit)\n",
    "        polygon = [p for p in shp.ops.polygonize(unioned)\n",
    "                   if p.representative_point().within(polygon)]\n",
    "        x0, y0 = polygon[0].boundary.xy\n",
    "        x1, y1 = polygon[1].boundary.xy\n",
    "        if x1 > x0: \n",
    "            x1 = np.array(x1) - 2 * np.pi\n",
    "            polygon[1] = shp.geometry.Polygon(np.array([x1, y1]).T)\n",
    "        else:\n",
    "            x0 = np.array(x0) - 2 * np.pi\n",
    "            polygon[0] = shp.geometry.Polygon(np.array([x0, y0]).T)\n",
    "        polygon =  shp.geometry.MultiPolygon(polygon)\n",
    "    return polygon"
   ]
  },
  {
   "cell_type": "code",
   "execution_count": null,
   "id": "48244494-4f5c-4f07-9076-00eb8595ffb3",
   "metadata": {},
   "outputs": [],
   "source": [
    "poly = shp.geometry.Polygon(vertices)\n",
    "\n",
    "# If poly intersect edges cut it into 2 polygons\n",
    "if poly.intersects(limit):\n",
    "    unioned = poly.boundary.union(limit)\n",
    "    poly = [p for p in shp.ops.polygonize(unioned)\n",
    "            if p.representative_point().within(poly)]\n",
    "    x, y = poly[0].boundary.xy\n",
    "    x = np.array(x) - 2 * np.pi\n",
    "    poly[0] = shp.geometry.Polygon(np.array([x, y]).T)    "
   ]
  },
  {
   "cell_type": "code",
   "execution_count": null,
   "id": "0b385c0b-696d-41e7-a232-30c87bb6dd2d",
   "metadata": {},
   "outputs": [],
   "source": [
    "Jb = 1024\n",
    "\n",
    "for i in range(4):\n",
    "    plt.scatter(corner[i][0][Jb] - np.pi, corner[i][1][Jb], label=f'{i}', s=100) \n",
    "plt.legend()"
   ]
  },
  {
   "cell_type": "code",
   "execution_count": null,
   "id": "acf8cb7a-ed50-4893-bf57-27bdc2a1cd3e",
   "metadata": {},
   "outputs": [],
   "source": [
    "for i in range(4):\n",
    "    c = f'C{i}'\n",
    "    for j in range(64):\n",
    "        ra = corner[i][0][Jb + j]\n",
    "        dec = corner[i][1][Jb + j]\n",
    "        if ra > np.pi: ra -= 2 * np.pi\n",
    "        plt.scatter(ra, dec, label=f'{i}', s=4)\n",
    "        \n",
    "plt.scatter(testtable.fieldRA.values[Jb], testtable.fieldDec.values[Jb], marker='*')\n",
    "plt.axvline(0, ls='--', c='k')\n",
    "#plt.axvline(5.8, ls='--', c='k')\n",
    "#plt.xlim(5.7, 6.5)"
   ]
  },
  {
   "cell_type": "code",
   "execution_count": 20,
   "id": "6b6abe2e-1e1a-40d9-92a4-41478a2c9a11",
   "metadata": {},
   "outputs": [
    {
     "name": "stdout",
     "output_type": "stream",
     "text": [
      "CPU times: user 3.86 s, sys: 213 ms, total: 4.07 s\n",
      "Wall time: 4.07 s\n"
     ]
    }
   ],
   "source": [
    "%%time\n",
    "testtable = survey.obs_table.iloc[:1_000_000]\n",
    "\n",
    "subfc = np.stack(testtable.rcid.map(survey.fields._sub_fields_corners).values)\n",
    "\n",
    "corner = {}\n",
    "for i in range(4):\n",
    "    corner[i] = new_coord_on_fields(subfc[:, i].T, [testtable.fieldRA.values, testtable.fieldDec.values])\n"
   ]
  },
  {
   "cell_type": "code",
   "execution_count": 21,
   "id": "31282fda-fc71-4b0f-ad49-170a740d0bc2",
   "metadata": {},
   "outputs": [
    {
     "name": "stdout",
     "output_type": "stream",
     "text": [
      "CPU times: user 18.2 ms, sys: 97 µs, total: 18.3 ms\n",
      "Wall time: 16.6 ms\n"
     ]
    }
   ],
   "source": [
    "%%time\n",
    "\n",
    "sign = (corner[3][0] - testtable.fieldRA.values) * (corner[0][0] - testtable.fieldRA.values) < 0\n",
    "comp = corner[0][0] < corner[3][0]\n",
    "\n",
    "corner[1][0][corner[1][0] < corner[0][0]] += 2 * np.pi\n",
    "corner[2][0][corner[2][0] < corner[3][0]] += 2 * np.pi\n",
    "\n",
    "\n",
    "corner[0][0][sign & comp] += 2 * np.pi\n",
    "corner[1][0][sign & comp] += 2 * np.pi\n",
    "\n",
    "corner[2][0][sign & ~comp] += 2 * np.pi\n",
    "corner[3][0][sign & ~comp] += 2 * np.pi"
   ]
  },
  {
   "cell_type": "code",
   "execution_count": 22,
   "id": "1cd087b9-4de9-4afd-b9a4-ea9217fb9766",
   "metadata": {},
   "outputs": [
    {
     "name": "stdout",
     "output_type": "stream",
     "text": [
      "CPU times: user 25.9 s, sys: 1.37 s, total: 27.3 s\n",
      "Wall time: 29.4 s\n"
     ]
    }
   ],
   "source": [
    "%%time\n",
    "GeoS = gpd.GeoDataFrame(data=testtable, \n",
    "                        geometry=[comput_polygon([[corner[i][0][j], \n",
    "                                                   corner[i][1][j]] for i in range(4)]) \n",
    "                        for j in range(len(testtable))])"
   ]
  },
  {
   "cell_type": "code",
   "execution_count": 23,
   "id": "e03cffb3-27c4-41e6-8f35-73ce82ba297e",
   "metadata": {},
   "outputs": [],
   "source": [
    "n=10\n",
    "SNRA = np.random.uniform(0, 2 * np.pi, size=n)\n",
    "SNDEC = np.random.uniform(- np.pi/2, np.pi/2, size=n)\n",
    "\n"
   ]
  },
  {
   "cell_type": "code",
   "execution_count": 24,
   "id": "eada01e7-f7e7-44d6-8543-d07561df54e4",
   "metadata": {},
   "outputs": [],
   "source": [
    "geoarray = gpd.points_from_xy(*[SNRA, SNDEC])\n",
    "geopoints = gpd.GeoDataFrame(geometry=geoarray)"
   ]
  },
  {
   "cell_type": "code",
   "execution_count": 28,
   "id": "adcb09d8-116e-4661-916f-c3c0f801d18b",
   "metadata": {},
   "outputs": [
    {
     "name": "stdout",
     "output_type": "stream",
     "text": [
      "CPU times: user 607 ms, sys: 82.2 ms, total: 689 ms\n",
      "Wall time: 1.26 s\n"
     ]
    }
   ],
   "source": [
    "%%time\n",
    "TABLE = geopoints.sjoin(GeoS, how=\"inner\", predicate=\"intersects\",)"
   ]
  },
  {
   "cell_type": "code",
   "execution_count": 30,
   "id": "63279ec5-5a0e-4f07-a630-cee131392f80",
   "metadata": {},
   "outputs": [
    {
     "data": {
      "text/html": [
       "<div>\n",
       "<style scoped>\n",
       "    .dataframe tbody tr th:only-of-type {\n",
       "        vertical-align: middle;\n",
       "    }\n",
       "\n",
       "    .dataframe tbody tr th {\n",
       "        vertical-align: top;\n",
       "    }\n",
       "\n",
       "    .dataframe thead th {\n",
       "        text-align: right;\n",
       "    }\n",
       "</style>\n",
       "<table border=\"1\" class=\"dataframe\">\n",
       "  <thead>\n",
       "    <tr style=\"text-align: right;\">\n",
       "      <th></th>\n",
       "      <th>geometry</th>\n",
       "      <th>index_right</th>\n",
       "      <th>expMJD</th>\n",
       "      <th>filter</th>\n",
       "      <th>fieldID</th>\n",
       "      <th>fieldRA</th>\n",
       "      <th>fieldDec</th>\n",
       "      <th>maglimcat</th>\n",
       "      <th>zp</th>\n",
       "      <th>gain</th>\n",
       "      <th>rcid</th>\n",
       "      <th>sig_zp</th>\n",
       "      <th>sig_psf</th>\n",
       "    </tr>\n",
       "  </thead>\n",
       "  <tbody>\n",
       "    <tr>\n",
       "      <th>4</th>\n",
       "      <td>POINT (3.36459 0.97947)</td>\n",
       "      <td>336918</td>\n",
       "      <td>58297.257812</td>\n",
       "      <td>ztfr</td>\n",
       "      <td>790</td>\n",
       "      <td>3.340386</td>\n",
       "      <td>0.959058</td>\n",
       "      <td>20.508080</td>\n",
       "      <td>26.181080</td>\n",
       "      <td>6.2</td>\n",
       "      <td>37</td>\n",
       "      <td>0.01</td>\n",
       "      <td>0.0</td>\n",
       "    </tr>\n",
       "    <tr>\n",
       "      <th>4</th>\n",
       "      <td>POINT (3.36459 0.97947)</td>\n",
       "      <td>557509</td>\n",
       "      <td>58303.203125</td>\n",
       "      <td>ztfg</td>\n",
       "      <td>790</td>\n",
       "      <td>3.340386</td>\n",
       "      <td>0.959058</td>\n",
       "      <td>21.731619</td>\n",
       "      <td>26.127619</td>\n",
       "      <td>6.2</td>\n",
       "      <td>37</td>\n",
       "      <td>0.01</td>\n",
       "      <td>0.0</td>\n",
       "    </tr>\n",
       "    <tr>\n",
       "      <th>4</th>\n",
       "      <td>POINT (3.36459 0.97947)</td>\n",
       "      <td>671502</td>\n",
       "      <td>58306.222656</td>\n",
       "      <td>ztfg</td>\n",
       "      <td>790</td>\n",
       "      <td>3.340386</td>\n",
       "      <td>0.959058</td>\n",
       "      <td>21.294973</td>\n",
       "      <td>25.944973</td>\n",
       "      <td>6.2</td>\n",
       "      <td>37</td>\n",
       "      <td>0.01</td>\n",
       "      <td>0.0</td>\n",
       "    </tr>\n",
       "    <tr>\n",
       "      <th>4</th>\n",
       "      <td>POINT (3.36459 0.97947)</td>\n",
       "      <td>522806</td>\n",
       "      <td>58302.187500</td>\n",
       "      <td>ztfi</td>\n",
       "      <td>790</td>\n",
       "      <td>3.340386</td>\n",
       "      <td>0.959058</td>\n",
       "      <td>21.077644</td>\n",
       "      <td>25.632645</td>\n",
       "      <td>6.2</td>\n",
       "      <td>37</td>\n",
       "      <td>0.01</td>\n",
       "      <td>0.0</td>\n",
       "    </tr>\n",
       "    <tr>\n",
       "      <th>4</th>\n",
       "      <td>POINT (3.36459 0.97947)</td>\n",
       "      <td>82016</td>\n",
       "      <td>58290.187500</td>\n",
       "      <td>ztfi</td>\n",
       "      <td>790</td>\n",
       "      <td>3.340386</td>\n",
       "      <td>0.959058</td>\n",
       "      <td>20.538584</td>\n",
       "      <td>25.615583</td>\n",
       "      <td>6.2</td>\n",
       "      <td>37</td>\n",
       "      <td>0.01</td>\n",
       "      <td>0.0</td>\n",
       "    </tr>\n",
       "    <tr>\n",
       "      <th>...</th>\n",
       "      <td>...</td>\n",
       "      <td>...</td>\n",
       "      <td>...</td>\n",
       "      <td>...</td>\n",
       "      <td>...</td>\n",
       "      <td>...</td>\n",
       "      <td>...</td>\n",
       "      <td>...</td>\n",
       "      <td>...</td>\n",
       "      <td>...</td>\n",
       "      <td>...</td>\n",
       "      <td>...</td>\n",
       "      <td>...</td>\n",
       "    </tr>\n",
       "    <tr>\n",
       "      <th>9</th>\n",
       "      <td>POINT (5.28508 1.03251)</td>\n",
       "      <td>220818</td>\n",
       "      <td>58293.429688</td>\n",
       "      <td>ztfg</td>\n",
       "      <td>828</td>\n",
       "      <td>5.235988</td>\n",
       "      <td>1.084722</td>\n",
       "      <td>21.374254</td>\n",
       "      <td>26.292255</td>\n",
       "      <td>6.2</td>\n",
       "      <td>7</td>\n",
       "      <td>0.01</td>\n",
       "      <td>0.0</td>\n",
       "    </tr>\n",
       "    <tr>\n",
       "      <th>9</th>\n",
       "      <td>POINT (5.28508 1.03251)</td>\n",
       "      <td>496219</td>\n",
       "      <td>58301.289062</td>\n",
       "      <td>ztfg</td>\n",
       "      <td>828</td>\n",
       "      <td>5.235988</td>\n",
       "      <td>1.084722</td>\n",
       "      <td>20.736866</td>\n",
       "      <td>26.245865</td>\n",
       "      <td>6.2</td>\n",
       "      <td>7</td>\n",
       "      <td>0.01</td>\n",
       "      <td>0.0</td>\n",
       "    </tr>\n",
       "    <tr>\n",
       "      <th>9</th>\n",
       "      <td>POINT (5.28508 1.03251)</td>\n",
       "      <td>950590</td>\n",
       "      <td>58317.417969</td>\n",
       "      <td>ztfr</td>\n",
       "      <td>828</td>\n",
       "      <td>5.235988</td>\n",
       "      <td>1.084722</td>\n",
       "      <td>20.764162</td>\n",
       "      <td>25.774160</td>\n",
       "      <td>6.2</td>\n",
       "      <td>7</td>\n",
       "      <td>0.01</td>\n",
       "      <td>0.0</td>\n",
       "    </tr>\n",
       "    <tr>\n",
       "      <th>9</th>\n",
       "      <td>POINT (5.28508 1.03251)</td>\n",
       "      <td>346290</td>\n",
       "      <td>58297.328125</td>\n",
       "      <td>ztfr</td>\n",
       "      <td>828</td>\n",
       "      <td>5.235988</td>\n",
       "      <td>1.084722</td>\n",
       "      <td>20.388311</td>\n",
       "      <td>26.192310</td>\n",
       "      <td>6.2</td>\n",
       "      <td>7</td>\n",
       "      <td>0.01</td>\n",
       "      <td>0.0</td>\n",
       "    </tr>\n",
       "    <tr>\n",
       "      <th>9</th>\n",
       "      <td>POINT (5.28508 1.03251)</td>\n",
       "      <td>571998</td>\n",
       "      <td>58303.339844</td>\n",
       "      <td>ztfr</td>\n",
       "      <td>828</td>\n",
       "      <td>5.235988</td>\n",
       "      <td>1.084722</td>\n",
       "      <td>21.224239</td>\n",
       "      <td>26.171238</td>\n",
       "      <td>6.2</td>\n",
       "      <td>7</td>\n",
       "      <td>0.01</td>\n",
       "      <td>0.0</td>\n",
       "    </tr>\n",
       "  </tbody>\n",
       "</table>\n",
       "<p>571 rows × 13 columns</p>\n",
       "</div>"
      ],
      "text/plain": [
       "                   geometry  index_right        expMJD filter  fieldID  \\\n",
       "4   POINT (3.36459 0.97947)       336918  58297.257812   ztfr      790   \n",
       "4   POINT (3.36459 0.97947)       557509  58303.203125   ztfg      790   \n",
       "4   POINT (3.36459 0.97947)       671502  58306.222656   ztfg      790   \n",
       "4   POINT (3.36459 0.97947)       522806  58302.187500   ztfi      790   \n",
       "4   POINT (3.36459 0.97947)        82016  58290.187500   ztfi      790   \n",
       "..                      ...          ...           ...    ...      ...   \n",
       "9   POINT (5.28508 1.03251)       220818  58293.429688   ztfg      828   \n",
       "9   POINT (5.28508 1.03251)       496219  58301.289062   ztfg      828   \n",
       "9   POINT (5.28508 1.03251)       950590  58317.417969   ztfr      828   \n",
       "9   POINT (5.28508 1.03251)       346290  58297.328125   ztfr      828   \n",
       "9   POINT (5.28508 1.03251)       571998  58303.339844   ztfr      828   \n",
       "\n",
       "     fieldRA  fieldDec  maglimcat         zp  gain  rcid  sig_zp  sig_psf  \n",
       "4   3.340386  0.959058  20.508080  26.181080   6.2    37    0.01      0.0  \n",
       "4   3.340386  0.959058  21.731619  26.127619   6.2    37    0.01      0.0  \n",
       "4   3.340386  0.959058  21.294973  25.944973   6.2    37    0.01      0.0  \n",
       "4   3.340386  0.959058  21.077644  25.632645   6.2    37    0.01      0.0  \n",
       "4   3.340386  0.959058  20.538584  25.615583   6.2    37    0.01      0.0  \n",
       "..       ...       ...        ...        ...   ...   ...     ...      ...  \n",
       "9   5.235988  1.084722  21.374254  26.292255   6.2     7    0.01      0.0  \n",
       "9   5.235988  1.084722  20.736866  26.245865   6.2     7    0.01      0.0  \n",
       "9   5.235988  1.084722  20.764162  25.774160   6.2     7    0.01      0.0  \n",
       "9   5.235988  1.084722  20.388311  26.192310   6.2     7    0.01      0.0  \n",
       "9   5.235988  1.084722  21.224239  26.171238   6.2     7    0.01      0.0  \n",
       "\n",
       "[571 rows x 13 columns]"
      ]
     },
     "execution_count": 30,
     "metadata": {},
     "output_type": "execute_result"
    }
   ],
   "source": [
    "TABLE"
   ]
  },
  {
   "cell_type": "code",
   "execution_count": null,
   "id": "35c745f7-d3e5-4fed-84fd-2978a85b9d38",
   "metadata": {},
   "outputs": [],
   "source": [
    "for i in range(4):\n",
    "    c = f'C{i}'\n",
    "    for j in range(64):\n",
    "        ra = corner[i][0][Jb + j]\n",
    "        dec = corner[i][1][Jb + j]\n",
    "        plt.scatter(ra, dec, label=f'{i}', s=4)\n",
    "        \n",
    "plt.scatter(testtable.fieldRA.values[Jb], testtable.fieldDec.values[Jb], marker='*')\n",
    "plt.axvline(2 * np.pi, ls='--', c='k')\n",
    "#plt.axvline(5.8, ls='--', c='k')\n",
    "#plt.xlim(5.7, 6.5)\n",
    "plt.xlim(0, 1)\n"
   ]
  },
  {
   "cell_type": "code",
   "execution_count": null,
   "id": "8da60125-862c-46d7-a429-8f6941b4076a",
   "metadata": {},
   "outputs": [],
   "source": [
    "Jb = 33404\n",
    "\n",
    "for i in range(4):\n",
    "    c = f'C{i}'\n",
    "    for j in range(64):\n",
    "        ra = corner[i][0][Jb + j]\n",
    "        dec = corner[i][1][Jb + j]\n",
    "        #if ra > np.pi: ra -= 2 * np.pi\n",
    "        plt.scatter(ra, dec, label=f'{i}', s=4)\n",
    "        \n",
    "plt.scatter(testtable.fieldRA.values[Jb], testtable.fieldDec.values[Jb], marker='*')\n",
    "plt.axvline(2 * np.pi, ls='--', c='k')\n",
    "#plt.axvline(5.8, ls='--', c='k')\n",
    "plt.xlim(5.7, 6.5)\n",
    "\n"
   ]
  },
  {
   "cell_type": "code",
   "execution_count": null,
   "id": "2dee608f-68a2-4726-8e1f-8de953c7cdf8",
   "metadata": {},
   "outputs": [],
   "source": []
  },
  {
   "cell_type": "code",
   "execution_count": null,
   "id": "32627ccc-8224-4952-b89a-4ef3d3155a71",
   "metadata": {},
   "outputs": [],
   "source": [
    "Polygon[29]"
   ]
  },
  {
   "cell_type": "code",
   "execution_count": null,
   "id": "d1f65918-1a47-4f09-969e-ffa35262c121",
   "metadata": {},
   "outputs": [],
   "source": [
    "x0, y0 = Polygon[30].geoms[0].boundary.xy\n",
    "x1, y1 = Polygon[30].geoms[1].boundary.xy\n",
    "plt.fill(x0, y0)\n",
    "plt.fill(x1, y1)\n",
    "plt.xlim(5.7, 2*np.pi)"
   ]
  },
  {
   "cell_type": "code",
   "execution_count": null,
   "id": "165b281f-879b-42be-96ad-6cfd59c8e241",
   "metadata": {},
   "outputs": [],
   "source": [
    "RAF = [survey.fields._dic[k]['ra'] for k in survey.fields._dic]\n",
    "DECF = [survey.fields._dic[k]['dec'] for k in survey.fields._dic]"
   ]
  },
  {
   "cell_type": "code",
   "execution_count": null,
   "id": "f52d2673-acd8-46fb-b9cf-e4460c97dce0",
   "metadata": {},
   "outputs": [],
   "source": [
    "def compute_sfield_corner(ra_dec_corner, RAF, DECF):\n",
    "    ra_dec_fcorner = np.zeros((len(ra_dec_corner[0]), 2, len(RAF)))\n",
    "    \n",
    "    for i in range(len(ra_dec_corner[0])):\n",
    "        rac, decc = new_coord_on_fields([ra_dec_corner[0][i],\n",
    "                                         ra_dec_corner[1][i]],\n",
    "                                        [RAF, DECF])\n",
    "        ra_dec_fcorner[i][0][:] = rac\n",
    "        ra_dec_fcorner[i][1][:] = decc\n",
    "    return ra_dec_fcorner"
   ]
  },
  {
   "cell_type": "code",
   "execution_count": null,
   "id": "7a354252-fdef-4139-8364-631620b966f3",
   "metadata": {},
   "outputs": [],
   "source": [
    "ra_dec_corner = survey.obs_table"
   ]
  },
  {
   "cell_type": "code",
   "execution_count": null,
   "id": "31c446e9-7a9c-4b16-84a9-b23a3c94fcb2",
   "metadata": {},
   "outputs": [],
   "source": [
    "res = compute_sfield_corner(survey.fields._sub_fields_corners[61].T, RAF, DECF)"
   ]
  },
  {
   "cell_type": "code",
   "execution_count": null,
   "id": "2d9b7bf1-9d9f-41af-a399-0a88dee91295",
   "metadata": {},
   "outputs": [],
   "source": [
    "shp.ops.unary_union(P)"
   ]
  },
  {
   "cell_type": "code",
   "execution_count": null,
   "id": "50f7fc6a-6946-4667-bb09-526fab50b373",
   "metadata": {},
   "outputs": [],
   "source": [
    "import geopandas as gpd"
   ]
  },
  {
   "cell_type": "code",
   "execution_count": null,
   "id": "71545e0b-61ef-4b4a-871f-2dda49f6cf72",
   "metadata": {},
   "outputs": [],
   "source": [
    "idx = []\n",
    "idx_tmp = np.random.choice(host.table.index, size=10)\n",
    "samples = np.array([host.table.loc[idx_tmp]['ra'], host.table.loc[idx_tmp]['dec']]).T\n",
    "multipoint = shp.geometry.MultiPoint(samples)\n",
    "sbool = gpd.GeoSeries(multipoint).explode(index_parts=False)\n"
   ]
  },
  {
   "cell_type": "code",
   "execution_count": null,
   "id": "e3a2ef5b-544f-47d5-9e60-2f0edee38b35",
   "metadata": {},
   "outputs": [],
   "source": [
    "samples"
   ]
  },
  {
   "cell_type": "code",
   "execution_count": null,
   "id": "f9943833-3f98-4f09-a716-8fbf3f543037",
   "metadata": {},
   "outputs": [],
   "source": [
    "shp.geometry.Polygon("
   ]
  },
  {
   "cell_type": "code",
   "execution_count": null,
   "id": "9f997b48-dca8-4f0b-afe8-6ae1746c403f",
   "metadata": {},
   "outputs": [],
   "source": [
    "idx.extend(idx_tmp[sbool.within(host._footprint)])\n",
    "n_to_sim = n - len(idx)"
   ]
  },
  {
   "cell_type": "code",
   "execution_count": null,
   "id": "183ac2dd-9e8a-4967-8bcd-3371d29f1250",
   "metadata": {},
   "outputs": [],
   "source": [
    "plt.subplot(projection='mollweide')\n",
    "plt.scatter(res[0][0][:], res[0][1][:],s=1)\n",
    "plt.scatter(res[1][0][:], res[1][1][:],s=1)\n",
    "plt.scatter(res[2][0][:], res[1][1][:],s=1)\n",
    "plt.scatter(res[3][0][:], res[1][1][:],s=1)\n"
   ]
  },
  {
   "cell_type": "code",
   "execution_count": null,
   "id": "730b3b14-e54d-415b-9a79-7473b7fa9556",
   "metadata": {},
   "outputs": [],
   "source": [
    "new_coord_on_fields"
   ]
  },
  {
   "cell_type": "code",
   "execution_count": null,
   "id": "0c9c5858-b900-4d70-8492-003284c69a6a",
   "metadata": {},
   "outputs": [],
   "source": [
    "ra_dec_frame[0][1]"
   ]
  },
  {
   "cell_type": "code",
   "execution_count": null,
   "id": "8807890a-86f3-45b7-8b2c-e8ea57ecb733",
   "metadata": {},
   "outputs": [],
   "source": []
  }
 ],
 "metadata": {
  "kernelspec": {
   "display_name": "snsim_env",
   "language": "python",
   "name": "snsim_env"
  },
  "language_info": {
   "codemirror_mode": {
    "name": "ipython",
    "version": 3
   },
   "file_extension": ".py",
   "mimetype": "text/x-python",
   "name": "python",
   "nbconvert_exporter": "python",
   "pygments_lexer": "ipython3",
   "version": "3.8.13"
  }
 },
 "nbformat": 4,
 "nbformat_minor": 5
}
