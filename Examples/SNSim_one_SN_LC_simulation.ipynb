{
 "cells": [
  {
   "cell_type": "markdown",
   "metadata": {},
   "source": [
    "# SNSim Examples"
   ]
  },
  {
   "cell_type": "markdown",
   "metadata": {},
   "source": [
    "### Example to show how generate 1 light curve for SNIa and SNCC "
   ]
  },
  {
   "cell_type": "code",
   "execution_count": 1,
   "metadata": {},
   "outputs": [
    {
     "name": "stderr",
     "output_type": "stream",
     "text": [
      "WARNING: AstropyDeprecationWarning: The update_default_config function is deprecated and may be removed in a future version. [sncosmo]\n"
     ]
    }
   ],
   "source": [
    "import snsim\n",
    "import numpy as np\n",
    "import pandas as pd\n",
    "from snsim.constants import C_LIGHT_KMS"
   ]
  },
  {
   "cell_type": "markdown",
   "metadata": {},
   "source": [
    "### Init Survey Obj from observation file "
   ]
  },
  {
   "cell_type": "code",
   "execution_count": 2,
   "metadata": {},
   "outputs": [
    {
     "name": "stdout",
     "output_type": "stream",
     "text": [
      "SURVEY FILE : ./survey_file_example.csv\n",
      "\n",
      "First day in survey_file : 58000.00 MJD / 2017-09-04 00:00:00.000\n",
      "Last day in survey_file : 58100.00 MJD / 2017-12-13 00:00:00.000\n",
      "\n",
      "Survey effective duration is 100.00 days\n",
      "\n",
      "Survey envelope area is 57.74 squared degrees (0.1 % of the sky)\n",
      "\n",
      "No cut on survey file.\n"
     ]
    }
   ],
   "source": [
    "# Set the survey\n",
    "survey_config = {'survey_file': './survey_file_example.csv', #survey observation log\n",
    "                 'sig_psf': 0.0,\n",
    "                 'sig_zp': 0.0,\n",
    "                 'gain': 1.,\n",
    "                 'zp': 25.,\n",
    "                 'ra_size': 7.295,\n",
    "                 'dec_size': 7.465,\n",
    "                 'noise_key': ['skynoise', 'skysigADU']}\n",
    "\n",
    "#init survey OBJ\n",
    "survey = snsim.survey_host.SurveyObs(survey_config)\n",
    "print(survey)"
   ]
  },
  {
   "cell_type": "code",
   "execution_count": 3,
   "metadata": {},
   "outputs": [
    {
     "data": {
      "image/png": "[encoded data removed]",
      "text/plain": [
       "<Figure size 640x480 with 1 Axes>"
      ]
     },
     "metadata": {},
     "output_type": "display_data"
    }
   ],
   "source": [
    "# Show the field map (Here one quadrant labeled 0)\n",
    "survey.show_map()\n",
    "\n"
   ]
  },
  {
   "cell_type": "markdown",
   "metadata": {},
   "source": [
    "#### Set the cosmology"
   ]
  },
  {
   "cell_type": "code",
   "execution_count": 4,
   "metadata": {},
   "outputs": [],
   "source": [
    "\n",
    "# Set the cosmology (astropy.cosmology object)\n",
    "cosmology = {'name': 'planck18'}\n",
    "cosmo =  snsim.utils.set_cosmo(cosmology)"
   ]
  },
  {
   "cell_type": "markdown",
   "metadata": {},
   "source": [
    "## SNIa simulation"
   ]
  },
  {
   "cell_type": "markdown",
   "metadata": {},
   "source": [
    "### Init SN parameters"
   ]
  },
  {
   "cell_type": "code",
   "execution_count": 5,
   "metadata": {},
   "outputs": [],
   "source": [
    "# Set the SNIa parameters\n",
    "zcos = 0.05\n",
    "coords = np.radians([42, 42])\n",
    "\n",
    "#parameters of SNIa object\n",
    "sn_par = {'relation': 'SALTTripp',\n",
    "          'zcos': zcos,\n",
    "          'z2cmb': 0.0,\n",
    "          'como_dist': cosmo.comoving_distance(zcos).value,\n",
    "          'vpec': 300,\n",
    "          't0': 0,#simulated peak time of the event\n",
    "          'ra': coords[0],\n",
    "          'dec': coords[1],\n",
    "          'mag_sct': 0.0,\n",
    "          'x1':1, \n",
    "          'c':0.1,\n",
    "          'M0': -19.3,\n",
    "          'alpha': 0.14,\n",
    "          'beta': 3.1,\n",
    "          'mod_fcov': False          \n",
    "         }\n",
    "\n",
    "\n",
    "# Set the sncosmo source for SNIa\n",
    "sn_source = snsim.utils.init_sn_source('salt2')\n",
    "\n",
    "#Init SNIa object\n",
    "SNIa = snsim.astrobj.SNIa(sn_source, sn_par)\n"
   ]
  },
  {
   "cell_type": "code",
   "execution_count": 6,
   "metadata": {},
   "outputs": [
    {
     "data": {
      "text/html": [
       "<div>\n",
       "<style scoped>\n",
       "    .dataframe tbody tr th:only-of-type {\n",
       "        vertical-align: middle;\n",
       "    }\n",
       "\n",
       "    .dataframe tbody tr th {\n",
       "        vertical-align: top;\n",
       "    }\n",
       "\n",
       "    .dataframe thead th {\n",
       "        text-align: right;\n",
       "    }\n",
       "</style>\n",
       "<table border=\"1\" class=\"dataframe\">\n",
       "  <thead>\n",
       "    <tr style=\"text-align: right;\">\n",
       "      <th></th>\n",
       "      <th>min_t</th>\n",
       "      <th>max_t</th>\n",
       "      <th>1_zobs</th>\n",
       "      <th>t0</th>\n",
       "      <th>ra</th>\n",
       "      <th>dec</th>\n",
       "    </tr>\n",
       "  </thead>\n",
       "  <tbody>\n",
       "    <tr>\n",
       "      <th>0</th>\n",
       "      <td>-21.021015</td>\n",
       "      <td>52.552536</td>\n",
       "      <td>1.051051</td>\n",
       "      <td>0</td>\n",
       "      <td>0.733038</td>\n",
       "      <td>0.733038</td>\n",
       "    </tr>\n",
       "  </tbody>\n",
       "</table>\n",
       "</div>"
      ],
      "text/plain": [
       "       min_t      max_t    1_zobs  t0        ra       dec\n",
       "0 -21.021015  52.552536  1.051051   0  0.733038  0.733038"
      ]
     },
     "execution_count": 6,
     "metadata": {},
     "output_type": "execute_result"
    }
   ],
   "source": [
    "#create a disctionary with parameter needed to define the observations of the SN\n",
    "#evaluate Z-obs and time range where we can observed the event in the rest frame\n",
    "#( [-20,50] phase respect to t_peak where Salt model is defined)\n",
    "dict_obs_par={}\n",
    "_1_zobs_ = (1 +sn_par['zcos']) * (1+sn_par['z2cmb'])*(1 + sn_par['vpec'] / C_LIGHT_KMS)    \n",
    "dict_obs_par['min_t'] = sn_par['t0'] -20 * _1_zobs_\n",
    "dict_obs_par['max_t'] = sn_par['t0'] + 50 * _1_zobs_\n",
    "dict_obs_par['1_zobs'] = _1_zobs_\n",
    "dict_obs_par['t0']=sn_par['t0']\n",
    "dict_obs_par['ra']=sn_par['ra']\n",
    "dict_obs_par['dec']=sn_par['dec']\n",
    "\n",
    "#convert it to a DataFrame\n",
    "obs_par=pd.DataFrame(dict_obs_par,index=[0])\n",
    "obs_par"
   ]
  },
  {
   "cell_type": "markdown",
   "metadata": {},
   "source": [
    "### Define the observation and simulate the light curve"
   ]
  },
  {
   "cell_type": "code",
   "execution_count": 7,
   "metadata": {},
   "outputs": [
    {
     "ename": "KeyError",
     "evalue": "\"['sim_t0'] not in index\"",
     "output_type": "error",
     "traceback": [
      "\u001b[0;31m---------------------------------------------------------------------------\u001b[0m",
      "\u001b[0;31mKeyError\u001b[0m                                  Traceback (most recent call last)",
      "Cell \u001b[0;32mIn[7], line 2\u001b[0m\n\u001b[1;32m      1\u001b[0m \u001b[38;5;66;03m#define the observation of the object\u001b[39;00m\n\u001b[0;32m----> 2\u001b[0m epochs,param\u001b[38;5;241m=\u001b[39m \u001b[43msurvey\u001b[49m\u001b[38;5;241;43m.\u001b[39;49m\u001b[43mget_observations\u001b[49m\u001b[43m(\u001b[49m\u001b[43mobs_par\u001b[49m\u001b[43m,\u001b[49m\u001b[43m[\u001b[49m\u001b[38;5;241;43m-\u001b[39;49m\u001b[38;5;241;43m50\u001b[39;49m\u001b[43m,\u001b[49m\u001b[38;5;241;43m70\u001b[39;49m\u001b[43m]\u001b[49m\u001b[43m)\u001b[49m\n\u001b[1;32m      3\u001b[0m epochs\n",
      "File \u001b[0;32m~/Documents/Thèse/SNSIM/snsim/survey_host.py:452\u001b[0m, in \u001b[0;36mSurveyObs.get_observations\u001b[0;34m(self, params, phase_cut, nep_cut, IDmin, use_dask, npartitions)\u001b[0m\n\u001b[1;32m    426\u001b[0m \u001b[38;5;124;03m\"\"\"Give the epochs of observations of a given SN.\u001b[39;00m\n\u001b[1;32m    427\u001b[0m \n\u001b[1;32m    428\u001b[0m \u001b[38;5;124;03mParameters\u001b[39;00m\n\u001b[0;32m   (...)\u001b[0m\n\u001b[1;32m    449\u001b[0m \n\u001b[1;32m    450\u001b[0m \u001b[38;5;124;03m\"\"\"\u001b[39;00m\n\u001b[1;32m    451\u001b[0m params \u001b[38;5;241m=\u001b[39m params\u001b[38;5;241m.\u001b[39mcopy()\n\u001b[0;32m--> 452\u001b[0m ObjPoints \u001b[38;5;241m=\u001b[39m gpd\u001b[38;5;241m.\u001b[39mGeoDataFrame(data\u001b[38;5;241m=\u001b[39m\u001b[43mparams\u001b[49m\u001b[43m[\u001b[49m\u001b[43m[\u001b[49m\u001b[38;5;124;43m'\u001b[39;49m\u001b[38;5;124;43msim_t0\u001b[39;49m\u001b[38;5;124;43m'\u001b[39;49m\u001b[43m,\u001b[49m\u001b[43m \u001b[49m\u001b[38;5;124;43m'\u001b[39;49m\u001b[38;5;124;43mmin_t\u001b[39;49m\u001b[38;5;124;43m'\u001b[39;49m\u001b[43m,\u001b[49m\u001b[43m \u001b[49m\u001b[38;5;124;43m'\u001b[39;49m\u001b[38;5;124;43mmax_t\u001b[39;49m\u001b[38;5;124;43m'\u001b[39;49m\u001b[43m,\u001b[49m\u001b[43m \u001b[49m\u001b[38;5;124;43m'\u001b[39;49m\u001b[38;5;124;43m1_zobs\u001b[39;49m\u001b[38;5;124;43m'\u001b[39;49m\u001b[43m]\u001b[49m\u001b[43m]\u001b[49m, \n\u001b[1;32m    453\u001b[0m                              geometry\u001b[38;5;241m=\u001b[39mgpd\u001b[38;5;241m.\u001b[39mpoints_from_xy(params[\u001b[38;5;124m'\u001b[39m\u001b[38;5;124mra\u001b[39m\u001b[38;5;124m'\u001b[39m], params[\u001b[38;5;124m'\u001b[39m\u001b[38;5;124mdec\u001b[39m\u001b[38;5;124m'\u001b[39m]),\n\u001b[1;32m    454\u001b[0m                              index\u001b[38;5;241m=\u001b[39mparams\u001b[38;5;241m.\u001b[39mindex)\n\u001b[1;32m    456\u001b[0m \u001b[38;5;28;01mif\u001b[39;00m use_dask:\n\u001b[1;32m    457\u001b[0m     \u001b[38;5;28;01mif\u001b[39;00m npartitions \u001b[38;5;129;01mis\u001b[39;00m \u001b[38;5;28;01mNone\u001b[39;00m: \n\u001b[1;32m    458\u001b[0m         \u001b[38;5;66;03m# -- Arbitrary should be change\u001b[39;00m\n",
      "File \u001b[0;32m~/.local/lib/python3.10/site-packages/pandas/core/frame.py:3511\u001b[0m, in \u001b[0;36mDataFrame.__getitem__\u001b[0;34m(self, key)\u001b[0m\n\u001b[1;32m   3509\u001b[0m     \u001b[38;5;28;01mif\u001b[39;00m is_iterator(key):\n\u001b[1;32m   3510\u001b[0m         key \u001b[38;5;241m=\u001b[39m \u001b[38;5;28mlist\u001b[39m(key)\n\u001b[0;32m-> 3511\u001b[0m     indexer \u001b[38;5;241m=\u001b[39m \u001b[38;5;28;43mself\u001b[39;49m\u001b[38;5;241;43m.\u001b[39;49m\u001b[43mcolumns\u001b[49m\u001b[38;5;241;43m.\u001b[39;49m\u001b[43m_get_indexer_strict\u001b[49m\u001b[43m(\u001b[49m\u001b[43mkey\u001b[49m\u001b[43m,\u001b[49m\u001b[43m \u001b[49m\u001b[38;5;124;43m\"\u001b[39;49m\u001b[38;5;124;43mcolumns\u001b[39;49m\u001b[38;5;124;43m\"\u001b[39;49m\u001b[43m)\u001b[49m[\u001b[38;5;241m1\u001b[39m]\n\u001b[1;32m   3513\u001b[0m \u001b[38;5;66;03m# take() does not accept boolean indexers\u001b[39;00m\n\u001b[1;32m   3514\u001b[0m \u001b[38;5;28;01mif\u001b[39;00m \u001b[38;5;28mgetattr\u001b[39m(indexer, \u001b[38;5;124m\"\u001b[39m\u001b[38;5;124mdtype\u001b[39m\u001b[38;5;124m\"\u001b[39m, \u001b[38;5;28;01mNone\u001b[39;00m) \u001b[38;5;241m==\u001b[39m \u001b[38;5;28mbool\u001b[39m:\n",
      "File \u001b[0;32m~/.local/lib/python3.10/site-packages/pandas/core/indexes/base.py:5782\u001b[0m, in \u001b[0;36mIndex._get_indexer_strict\u001b[0;34m(self, key, axis_name)\u001b[0m\n\u001b[1;32m   5779\u001b[0m \u001b[38;5;28;01melse\u001b[39;00m:\n\u001b[1;32m   5780\u001b[0m     keyarr, indexer, new_indexer \u001b[38;5;241m=\u001b[39m \u001b[38;5;28mself\u001b[39m\u001b[38;5;241m.\u001b[39m_reindex_non_unique(keyarr)\n\u001b[0;32m-> 5782\u001b[0m \u001b[38;5;28;43mself\u001b[39;49m\u001b[38;5;241;43m.\u001b[39;49m\u001b[43m_raise_if_missing\u001b[49m\u001b[43m(\u001b[49m\u001b[43mkeyarr\u001b[49m\u001b[43m,\u001b[49m\u001b[43m \u001b[49m\u001b[43mindexer\u001b[49m\u001b[43m,\u001b[49m\u001b[43m \u001b[49m\u001b[43maxis_name\u001b[49m\u001b[43m)\u001b[49m\n\u001b[1;32m   5784\u001b[0m keyarr \u001b[38;5;241m=\u001b[39m \u001b[38;5;28mself\u001b[39m\u001b[38;5;241m.\u001b[39mtake(indexer)\n\u001b[1;32m   5785\u001b[0m \u001b[38;5;28;01mif\u001b[39;00m \u001b[38;5;28misinstance\u001b[39m(key, Index):\n\u001b[1;32m   5786\u001b[0m     \u001b[38;5;66;03m# GH 42790 - Preserve name from an Index\u001b[39;00m\n",
      "File \u001b[0;32m~/.local/lib/python3.10/site-packages/pandas/core/indexes/base.py:5845\u001b[0m, in \u001b[0;36mIndex._raise_if_missing\u001b[0;34m(self, key, indexer, axis_name)\u001b[0m\n\u001b[1;32m   5842\u001b[0m     \u001b[38;5;28;01mraise\u001b[39;00m \u001b[38;5;167;01mKeyError\u001b[39;00m(\u001b[38;5;124mf\u001b[39m\u001b[38;5;124m\"\u001b[39m\u001b[38;5;124mNone of [\u001b[39m\u001b[38;5;132;01m{\u001b[39;00mkey\u001b[38;5;132;01m}\u001b[39;00m\u001b[38;5;124m] are in the [\u001b[39m\u001b[38;5;132;01m{\u001b[39;00maxis_name\u001b[38;5;132;01m}\u001b[39;00m\u001b[38;5;124m]\u001b[39m\u001b[38;5;124m\"\u001b[39m)\n\u001b[1;32m   5844\u001b[0m not_found \u001b[38;5;241m=\u001b[39m \u001b[38;5;28mlist\u001b[39m(ensure_index(key)[missing_mask\u001b[38;5;241m.\u001b[39mnonzero()[\u001b[38;5;241m0\u001b[39m]]\u001b[38;5;241m.\u001b[39munique())\n\u001b[0;32m-> 5845\u001b[0m \u001b[38;5;28;01mraise\u001b[39;00m \u001b[38;5;167;01mKeyError\u001b[39;00m(\u001b[38;5;124mf\u001b[39m\u001b[38;5;124m\"\u001b[39m\u001b[38;5;132;01m{\u001b[39;00mnot_found\u001b[38;5;132;01m}\u001b[39;00m\u001b[38;5;124m not in index\u001b[39m\u001b[38;5;124m\"\u001b[39m)\n",
      "\u001b[0;31mKeyError\u001b[0m: \"['sim_t0'] not in index\""
     ]
    }
   ],
   "source": [
    "#define the observation of the object\n",
    "epochs,param= survey.get_observations(obs_par,[-50,70])\n",
    "epochs"
   ]
  },
  {
   "cell_type": "code",
   "execution_count": null,
   "metadata": {},
   "outputs": [],
   "source": [
    "#simulate the LC\n",
    "lc=SNIa.gen_flux(epochs,np.random.default_rng(1200))\n",
    "lc"
   ]
  },
  {
   "cell_type": "code",
   "execution_count": null,
   "metadata": {},
   "outputs": [],
   "source": [
    "#parameters of the object in Lc header\n",
    "lc.attrs"
   ]
  },
  {
   "cell_type": "markdown",
   "metadata": {},
   "source": [
    "### Plot the SN"
   ]
  },
  {
   "cell_type": "code",
   "execution_count": null,
   "metadata": {},
   "outputs": [],
   "source": [
    "bandcol = {'ztfg': 'g', 'ztfr': 'r', 'ztfi': 'gold'}\n",
    "snsim.plot_utils.plot_lc(lc,lc.attrs, snc_sim_model=SNIa.sim_model,\n",
    "                        bandcol=bandcol,phase_limit=[-70,70])"
   ]
  },
  {
   "cell_type": "markdown",
   "metadata": {},
   "source": [
    "# Now we simulate 1 SN Core-Collapse"
   ]
  },
  {
   "cell_type": "markdown",
   "metadata": {},
   "source": [
    "#### we use same observation file and cosmology as before"
   ]
  },
  {
   "cell_type": "markdown",
   "metadata": {},
   "source": [
    "### We simulate a SNIc, but the method is the same for all SNCC"
   ]
  },
  {
   "cell_type": "code",
   "execution_count": null,
   "metadata": {},
   "outputs": [],
   "source": [
    "# Set the SNIc parameters\n",
    "zcos = 0.02\n",
    "coords = np.radians([42, 42])\n",
    "\n",
    "#parameters of SNIc object\n",
    "sn_par = {'zcos': zcos,\n",
    "          't0': 0.,\n",
    "          'z2cmb': 0.0,\n",
    "          'como_dist': cosmo.comoving_distance(zcos).value,\n",
    "          'vpec': 500,\n",
    "          'sim_t0': 58030,#simulated peak time of the event\n",
    "          'ra': coords[0],\n",
    "          'dec': coords[1],\n",
    "          'mag_sct': 0.3,\n",
    "          'M0': -18,\n",
    "          'mod_fcov': False\n",
    "           }\n",
    "\n",
    "# Set the sncosmo model for SNIc\n",
    "sn_source = snsim.utils.init_sn_source('v19-2007gr') #name of sncosmo built-in source\n",
    "\n",
    "\n",
    "#Init SNIc object\n",
    "SNIc = snsim.astrobj.SNIc(sn_source, sn_par)"
   ]
  },
  {
   "cell_type": "code",
   "execution_count": null,
   "metadata": {},
   "outputs": [],
   "source": [
    "#create a disctionary with parameter needed to define the observations of the SN\n",
    "#evaluate Z-obs and time range where we can observed the event in the rest frame\n",
    "#( [-20,50] phase respect to t_peak where Salt model is defined)\n",
    "dict_obs_par={}\n",
    "_1_zobs_ = (1 +sn_par['zcos']) * (1+sn_par['z2cmb'])*(1 + sn_par['vpec'] / C_LIGHT_KMS)    \n",
    "dict_obs_par['min_t'] = SNIc.sim_model.mintime()\n",
    "dict_obs_par['max_t'] = SNIc.sim_model.maxtime()\n",
    "dict_obs_par['1_zobs'] = _1_zobs_\n",
    "dict_obs_par['sim_t0']=sn_par['sim_t0']\n",
    "dict_obs_par['ra']=sn_par['ra']\n",
    "dict_obs_par['dec']=sn_par['dec']\n",
    "\n",
    "#convert it to a DataFrame\n",
    "obs_par=pd.DataFrame(dict_obs_par,index=[0])\n",
    "obs_par"
   ]
  },
  {
   "cell_type": "code",
   "execution_count": null,
   "metadata": {},
   "outputs": [],
   "source": [
    "#define the observation of the object\n",
    "epochs,param= survey.get_observations(obs_par,[-200,250])\n",
    "epochs"
   ]
  },
  {
   "cell_type": "code",
   "execution_count": null,
   "metadata": {},
   "outputs": [],
   "source": [
    "#simulate the LC\n",
    "lc=SNIc.gen_flux(epochs,np.random.default_rng(1200))\n",
    "lc"
   ]
  },
  {
   "cell_type": "code",
   "execution_count": null,
   "metadata": {},
   "outputs": [],
   "source": [
    "lc.attrs"
   ]
  },
  {
   "cell_type": "code",
   "execution_count": null,
   "metadata": {},
   "outputs": [],
   "source": [
    "bandcol = {'ztfg': 'g', 'ztfr': 'r', 'ztfi': 'gold'}\n",
    "snsim.plot_utils.plot_lc(lc,lc.attrs, snc_sim_model=SNIc.sim_model,\n",
    "                        bandcol=bandcol,phase_limit=[-30,70])"
   ]
  },
  {
   "cell_type": "code",
   "execution_count": null,
   "metadata": {},
   "outputs": [],
   "source": []
  },
  {
   "cell_type": "code",
   "execution_count": null,
   "metadata": {},
   "outputs": [],
   "source": []
  }
 ],
 "metadata": {
  "kernelspec": {
   "display_name": "snsim_dev",
   "language": "python",
   "name": "snsim_dev"
  },
  "language_info": {
   "codemirror_mode": {
    "name": "ipython",
    "version": 3
   },
   "file_extension": ".py",
   "mimetype": "text/x-python",
   "name": "python",
   "nbconvert_exporter": "python",
   "pygments_lexer": "ipython3",
   "version": "3.10.13"
  }
 },
 "nbformat": 4,
 "nbformat_minor": 4
}
