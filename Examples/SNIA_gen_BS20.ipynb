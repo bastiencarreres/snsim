{
 "cells": [
  {
   "cell_type": "code",
   "execution_count": 1,
   "id": "01ab4ae1",
   "metadata": {},
   "outputs": [
    {
     "name": "stderr",
     "output_type": "stream",
     "text": [
      "WARNING: AstropyDeprecationWarning: The update_default_config function is deprecated and may be removed in a future version. [sncosmo]\n"
     ]
    }
   ],
   "source": [
    "import sys\n",
    "import snsim\n",
    "import numpy as np\n",
    "import matplotlib.pyplot as plt\n",
    "from astropy.time import Time\n",
    "import pandas as pd "
   ]
  },
  {
   "cell_type": "code",
   "execution_count": 2,
   "id": "5c69223e",
   "metadata": {},
   "outputs": [],
   "source": [
    "randseed = 1234 #random seed for generation\n",
    "n_obj = 10000 #number of SN to generate\n",
    "z_range = [0.02, 0.1] #redshift range to extract SN redshift\n",
    "\n",
    "#time range of SNIa observation to extract t0 for each object\n",
    "time_range = [\"2021-08-03\", \"2022-08-03\"]\n",
    "time_range=[Time(time_range[0]).mjd, Time(time_range[1]).mjd]\n",
    "\n",
    "\n",
    "snia_gen = {'M0': 'jla', #'jla' is a default value, you can just put a number\n",
    "            'sigM': 0.12,# intrinsic scatter of SNIA in Hubble Diagram\n",
    "            'mass_step': 2,\n",
    "            'model_name': 'salt2',\n",
    "            'sct_model':'BS20',\n",
    "            'relation':'BS20',\n",
    "            'alpha': 0.14,\n",
    "            'beta':'BS20',\n",
    "            'dist_x1': 'N21',#default value, you can use gauss distribution [mean,sig] or\n",
    "                             # asymmetric gaussian [mean,sig1,sig2]\n",
    "            'dist_c': 'BS20'#asym gaussian for generate c parameter of salt model\n",
    "                            } \n",
    "                                                                    \n",
    "\n",
    "cosmology = {'name':'planck18'} #cosmology, in astropy format\n",
    "\n",
    "\n",
    "#CMB dipole, in this case is set to 0\n",
    "cmb = {'v_cmb': 0,\n",
    "       'l_cmb':0,\n",
    "       'b_cmb':0}\n",
    "\n",
    "#host file config\n",
    "host_conf ={\n",
    "    'host_file': './test_mock_nbody.parquet',\n",
    "    'key_dic': {'vpec_true': 'vpec' , 'sm':'host_mass', 'sfr':'host_sfr'}, #attention this depend on your mock file \n",
    "    'distrib': 'mass'}\n",
    "#mass and sfr should not be in logaritmic scale\n",
    "\n",
    "host = snsim.survey_host.SnHost(host_conf)\n",
    "        \n",
    "gen_class = getattr(snsim.generators, snsim.generators.__GEN_DIC__['snia_gen'])\n",
    "\n",
    "# Give the input configuration\n",
    "SNgenerator = gen_class(snia_gen,\n",
    "                        snsim.utils.set_cosmo(cosmology),\n",
    "                        time_range,\n",
    "                        cmb=cmb,\n",
    "                        host=host\n",
    "                       )# there is also a parameter  called geometry to give the fields where extract ra, dec of SNe\n",
    "                        # in this case we generate SNe full sky\n",
    "\n",
    "\n",
    "\n",
    "# Gen basic parameters\n",
    "params = SNgenerator.gen_basic_par(n_obj, randseed)\n"
   ]
  },
  {
   "cell_type": "code",
   "execution_count": 3,
   "id": "66cb7d28",
   "metadata": {},
   "outputs": [],
   "source": [
    "SNs = SNgenerator(n_obj, randseed, basic_par=params)"
   ]
  },
  {
   "cell_type": "code",
   "execution_count": 4,
   "id": "b1a702f0",
   "metadata": {},
   "outputs": [
    {
     "data": {
      "text/plain": [
       "{'index': 0,\n",
       " 'zcos': 0.10484508484871612,\n",
       " 'como_dist': 452.9813163421019,\n",
       " 'zpcmb': 0.0,\n",
       " 't0': 59622.21125134638,\n",
       " 'ra': 5.478244427834646,\n",
       " 'dec': -0.9380411505699158,\n",
       " 'vpec': -121.27849578857422,\n",
       " 'mass_step': 2,\n",
       " 'host_sfr': 14.279190063476562,\n",
       " 'host_mass': 111616802816.0,\n",
       " 'model_name': 'salt2',\n",
       " 'model_version': '2.4',\n",
       " 'M0': -19.123830232811475,\n",
       " 'coh_sct': 0.005768908078902934,\n",
       " 'RV': 2.4240934775443366,\n",
       " 'E_dust': 0.12695443270631954,\n",
       " 'x1': -0.8698156620372438,\n",
       " 'c': -0.040322026831852376,\n",
       " 'alpha': 0.14,\n",
       " 'beta': 2.059753711846908,\n",
       " 'ID': 0,\n",
       " 'mb': 21.4100416457173,\n",
       " 'x0': 4.3350239440617246e-05}"
      ]
     },
     "execution_count": 4,
     "metadata": {},
     "output_type": "execute_result"
    }
   ],
   "source": [
    "SNs[0]._sim_par"
   ]
  },
  {
   "cell_type": "code",
   "execution_count": 5,
   "id": "ab4b5db1",
   "metadata": {},
   "outputs": [
    {
     "data": {
      "text/plain": [
       "38.49515113027966"
      ]
     },
     "execution_count": 5,
     "metadata": {},
     "output_type": "execute_result"
    }
   ],
   "source": []
  },
  {
   "cell_type": "code",
   "execution_count": null,
   "id": "266bcce2",
   "metadata": {},
   "outputs": [],
   "source": []
  }
 ],
 "metadata": {
  "kernelspec": {
   "display_name": "Python 3 (ipykernel)",
   "language": "python",
   "name": "python3"
  },
  "language_info": {
   "codemirror_mode": {
    "name": "ipython",
    "version": 3
   },
   "file_extension": ".py",
   "mimetype": "text/x-python",
   "name": "python",
   "nbconvert_exporter": "python",
   "pygments_lexer": "ipython3",
   "version": "3.10.12"
  }
 },
 "nbformat": 4,
 "nbformat_minor": 5
}
